{
 "cells": [
  {
   "cell_type": "code",
   "execution_count": null,
   "metadata": {},
   "outputs": [],
   "source": [
    "import shutil, os\n",
    "from skimage.io import imread, imsave\n",
    "from tqdm import tqdm_notebook as tqdm\n",
    "from shutil import copyfile\n",
    "import json"
   ]
  },
  {
   "cell_type": "code",
   "execution_count": null,
   "metadata": {},
   "outputs": [],
   "source": [
    "DATA_PATH = 'ECP Val (Day)/day/img/val/'\n",
    "\n",
    "LABELS_PATH = 'ECP Val (Day) Labels/day/labels/val/'"
   ]
  },
  {
   "cell_type": "code",
   "execution_count": null,
   "metadata": {},
   "outputs": [],
   "source": [
    "city_names = sorted(os.listdir(DATA_PATH))\n",
    "\n",
    "print(city_names)"
   ]
  },
  {
   "cell_type": "code",
   "execution_count": null,
   "metadata": {},
   "outputs": [],
   "source": [
    "print('Number of cities:', len(city_names))"
   ]
  },
  {
   "cell_type": "code",
   "execution_count": null,
   "metadata": {},
   "outputs": [],
   "source": [
    "posible_classes = [\"pedestrian\", \n",
    "                   \"rider\", \n",
    "                   \"person-group-far-away\", \n",
    "                   \"rider+vehicle-group-far-away\", \n",
    "                   \"bicycle-group\", \n",
    "                   \"buggy-group\", \n",
    "                   \"motorbike-group\", \n",
    "                   \"scooter-group\", \n",
    "                   \"tricycle-group\", \n",
    "                   \"wheelchair-group\",\n",
    "                   \"bicycle\", \n",
    "                   \"buggy\", \n",
    "                   \"motorbike\", \n",
    "                   \"scooter\", \n",
    "                   \"tricycle\", \n",
    "                   \"wheelchair\"]"
   ]
  },
  {
   "cell_type": "code",
   "execution_count": null,
   "metadata": {},
   "outputs": [],
   "source": [
    "SAVE_DATA_PATH = 'images/'\n",
    "SAVE_LABELS_PATH = 'labels/'\n",
    "\n",
    "if not os.path.exists(SAVE_DATA_PATH) and not os.path.exists(SAVE_LABELS_PATH):\n",
    "    os.makedirs(SAVE_DATA_PATH)\n",
    "    os.makedirs(SAVE_LABELS_PATH)"
   ]
  },
  {
   "cell_type": "code",
   "execution_count": null,
   "metadata": {},
   "outputs": [],
   "source": [
    "# copy data to images/\n",
    "for i in tqdm(range(len(city_names))):\n",
    "    for each in sorted(os.listdir(DATA_PATH + city_names[i])):\n",
    "        src_path = DATA_PATH + city_names[i] + '/' + each\n",
    "        dest_path = SAVE_DATA_PATH + each\n",
    "        copyfile(src_path,dest_path)"
   ]
  },
  {
   "cell_type": "markdown",
   "metadata": {},
   "source": [
    "## Creating train.txt, valid.txt, class.names"
   ]
  },
  {
   "cell_type": "code",
   "execution_count": null,
   "metadata": {},
   "outputs": [],
   "source": [
    "# write to train.txt and valid.txt\n",
    "f1 = open(\"train.txt\",\"w+\")\n",
    "f2 = open(\"valid.txt\",\"w+\")\n",
    "\n",
    "for i in range(len(city_names)):\n",
    "    for each in sorted(os.listdir(DATA_PATH + city_names[i])):\n",
    "        name = 'data/custom/images/' + each\n",
    "        if i<=25:\n",
    "            f1.write(name + '\\n')\n",
    "        else:\n",
    "            f2.write(name + '\\n')\n",
    "            \n",
    "f1.close()\n",
    "f2.close()"
   ]
  },
  {
   "cell_type": "code",
   "execution_count": null,
   "metadata": {},
   "outputs": [],
   "source": [
    "# writing class.names\n",
    "f = open(\"classes.names.txt\",\"w+\")\n",
    "\n",
    "for each in posible_classes:\n",
    "    f.write(each + '\\n')\n",
    "\n",
    "f.close()"
   ]
  },
  {
   "cell_type": "markdown",
   "metadata": {},
   "source": [
    "### Preprocessing labels"
   ]
  },
  {
   "cell_type": "code",
   "execution_count": null,
   "metadata": {},
   "outputs": [],
   "source": [
    "#labels\n",
    "for i in tqdm(range(len(city_names))):\n",
    "    for each in sorted(os.listdir(LABELS_PATH + city_names[i])):\n",
    "        file_name = LABELS_PATH + city_names[i] + '/' + each\n",
    "        with open(file_name) as json_file:\n",
    "            f = open(SAVE_LABELS_PATH + each.split(\".\")[0] + \".txt\",\"w+\")\n",
    "            data = json.load(json_file)\n",
    "            \n",
    "            image_width = data['imagewidth']\n",
    "            image_height = data['imageheight']\n",
    "            \n",
    "            for obj in data['children']:\n",
    "                label_idx = posible_classes.index(obj['identity'])\n",
    "                x_center = (obj['x0'] + obj['x1']) / 2 / image_width\n",
    "                width = (obj['x1'] - obj['x0']) / image_width\n",
    "                y_center = (obj['y0'] + obj['y1']) / 2 / image_height\n",
    "                height = (obj['y1'] - obj['y0']) / image_height\n",
    "            \n",
    "                f.write(f\"{label_idx} {x_center} {y_center} {width} {height}\\n\")\n",
    "            f.close()"
   ]
  },
  {
   "cell_type": "markdown",
   "metadata": {},
   "source": [
    "---"
   ]
  },
  {
   "cell_type": "markdown",
   "metadata": {},
   "source": [
    "### Count class frequences"
   ]
  },
  {
   "cell_type": "code",
   "execution_count": null,
   "metadata": {},
   "outputs": [],
   "source": [
    "class_occurances = []\n",
    "\n",
    "#Count class occurance\n",
    "for i in tqdm(range(len(city_names))):\n",
    "    for each in sorted(os.listdir(LABELS_PATH + city_names[i])):\n",
    "        file_name = LABELS_PATH + city_names[i] + '/' + each\n",
    "        with open(file_name) as json_file:\n",
    "            data = json.load(json_file)\n",
    "            for obj in data['children']:\n",
    "                class_occurances.append(obj['identity'])"
   ]
  },
  {
   "cell_type": "code",
   "execution_count": null,
   "metadata": {},
   "outputs": [],
   "source": [
    "from collections import Counter\n",
    "Counter(class_occurances)"
   ]
  }
 ],
 "metadata": {
  "kernelspec": {
   "display_name": "Python 3",
   "language": "python",
   "name": "python3"
  },
  "language_info": {
   "codemirror_mode": {
    "name": "ipython",
    "version": 3
   },
   "file_extension": ".py",
   "mimetype": "text/x-python",
   "name": "python",
   "nbconvert_exporter": "python",
   "pygments_lexer": "ipython3",
   "version": "3.7.1"
  }
 },
 "nbformat": 4,
 "nbformat_minor": 2
}
